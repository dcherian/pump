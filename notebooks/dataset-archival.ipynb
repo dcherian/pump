{
 "cells": [
  {
   "cell_type": "markdown",
   "metadata": {},
   "source": [
    "# Datasets for archival"
   ]
  },
  {
   "cell_type": "code",
   "execution_count": 107,
   "metadata": {},
   "outputs": [],
   "source": [
    "import glob\n",
    "\n",
    "import cf_xarray\n",
    "import dask\n",
    "import distributed\n",
    "import matplotlib.pyplot as plt\n",
    "import numpy as np\n",
    "import pandas as pd\n",
    "import xarray as xr\n",
    "\n",
    "import pump"
   ]
  },
  {
   "cell_type": "code",
   "execution_count": 3,
   "metadata": {},
   "outputs": [],
   "source": [
    "import ncar_jobqueue\n",
    "\n",
    "cluster = ncar_jobqueue.NCARCluster(\n",
    "    account=\"ncgd0048\", scheduler_options=dict(dashboard_address=\":9797\")\n",
    ")\n",
    "cluster.scale(12)"
   ]
  },
  {
   "cell_type": "code",
   "execution_count": 105,
   "metadata": {},
   "outputs": [
    {
     "data": {
      "text/html": [
       "<table style=\"border: 2px solid white;\">\n",
       "<tr>\n",
       "<td style=\"vertical-align: top; border: 0px solid white\">\n",
       "<h3 style=\"text-align: left;\">Client</h3>\n",
       "<ul style=\"text-align: left; list-style: none; margin: 0; padding: 0;\">\n",
       "  <li><b>Scheduler: </b>tcp://10.12.205.30:45283</li>\n",
       "  <li><b>Dashboard: </b><a href='https://jupyterhub.ucar.edu/dav/user/dcherian/proxy/9797/status' target='_blank'>https://jupyterhub.ucar.edu/dav/user/dcherian/proxy/9797/status</a></li>\n",
       "</ul>\n",
       "</td>\n",
       "<td style=\"vertical-align: top; border: 0px solid white\">\n",
       "<h3 style=\"text-align: left;\">Cluster</h3>\n",
       "<ul style=\"text-align: left; list-style:none; margin: 0; padding: 0;\">\n",
       "  <li><b>Workers: </b>12</li>\n",
       "  <li><b>Cores: </b>12</li>\n",
       "  <li><b>Memory: </b>300.00 GB</li>\n",
       "</ul>\n",
       "</td>\n",
       "</tr>\n",
       "</table>"
      ],
      "text/plain": [
       "<Client: 'tcp://10.12.205.30:45283' processes=12 threads=12, memory=300.00 GB>"
      ]
     },
     "execution_count": 105,
     "metadata": {},
     "output_type": "execute_result"
    }
   ],
   "source": [
    "client = distributed.Client(cluster)\n",
    "dask.config.set(scheduler=client)\n",
    "client"
   ]
  },
  {
   "cell_type": "markdown",
   "metadata": {},
   "source": [
    "## Attributes"
   ]
  },
  {
   "cell_type": "code",
   "execution_count": 133,
   "metadata": {},
   "outputs": [],
   "source": [
    "dataset_attrs = {\n",
    "        \"Conventions\": \"CF-1.6\",\n",
    "        \"institution\": \"National Center for Atmospheric Research\",\n",
    "        \"source\": \"MIT General Circulation Model (MITgcm) checkpoint 64v\",\n",
    "        \"references\": \"Cherian et al. (2021) Off-equatorial deep-cycle turbulence forced by Tropical Instability Waves in the equatorial Pacific. Journal of Physical Oceanography.\",\n",
    "    }"
   ]
  },
  {
   "cell_type": "code",
   "execution_count": 138,
   "metadata": {},
   "outputs": [],
   "source": [
    "variable_attrs = {\n",
    "    \"latitude\": {\"standard_name\": \"latitude\", \"units\": \"degrees_north\", \"axis\": \"Y\"},\n",
    "    \"longitude\": {\"standard_name\": \"longitude\", \"units\": \"degrees_east\", \"axis\": \"X\"},\n",
    "    \"time\": {\"standard_name\": \"time\"},\n",
    "    \"depth\": {\"units\": \"m\", \"positive\": \"up\"},\n",
    "    \"ETAN\": {\"standard_name\": \"sea_surface_height\", \"units\": \"m\"},\n",
    "    \"theta\": {\"standard_name\": \"sea_water_potential_temperature\", \"units\": \"degC\"},\n",
    "    \"salt\": {\"standard_name\": \"sea_water_practical_salinity\", \"units\": \"psu\"},\n",
    "    \"u\": {\"standard_name\": \"eastward_sea_water_velocity\", \"units\": \"m/s\"},\n",
    "    \"v\": {\"standard_name\": \"northward_sea_water_velocity\", \"units\": \"m/s\"},\n",
    "    \"w\": {\"standard_name\": \"upward_sea_water_velocity\", \"units\": \"m/s\"},\n",
    "    \"oceQnet\": {\n",
    "        \"long_name\": \"net surface heat flux into the ocean\",\n",
    "        \"units\": \"W/m^2 \",\n",
    "        \"description\": \"(+=down), >0 increases theta\",\n",
    "    },\n",
    "    \"oceQsw\": {\n",
    "        \"long_name\": \"net short wave radiation into the ocean\",\n",
    "        \"units\": \"W/m^2\",\n",
    "        \"description\": \"(+=down), >0 increases theta\",\n",
    "    },\n",
    "    \"DFrI_TH\": {\n",
    "        \"units\": \"degC m^3/s\",\n",
    "        \"long_name\": \"Vertical Diffusive Flux of Pot.Temperature (Implicit part)\",\n",
    "    },\n",
    "    \"KPP_diffusivity\": {\n",
    "        \"long_name\": \"KPP diffusivity for temperature\",\n",
    "        \"units\": \"m^2/s^2\",\n",
    "    },\n",
    "    \"KPPhbl\": {\"long_name\": \"KPP boundary layer depth\", \"units\": \"m\"},\n",
    "    \"KPPRi\": {\"long_name\": \"KPP bulk Richardson number\", \"units\": \"1\"},\n",
    "    \"KPPbo\": {\"long_name\": \"Surface turbulence buoyancy forcing\", \"units\": \"m^2/s^3\"},\n",
    "    \"KPPviscA\": {\n",
    "        \"long_name\": \"KPP vertical eddy viscosity coefficient\",\n",
    "        \"units\": \"m^2/s\",\n",
    "    },\n",
    "    \"KPPdiffT\": {\n",
    "        \"long_name\": \"KPP Vertical diffusion coefficient for heat\",\n",
    "        \"units\": \"m^2/s\",\n",
    "    },\n",
    "    \"KPPg_TH\": {\n",
    "        \"long_name\": \"KPP non-local flux of potential temperature\",\n",
    "        \"units\": \"degC m^3/s\",\n",
    "    },\n",
    "    \"VISrI_Um\": {\n",
    "        \"long_name\": \"Vertical   Viscous Flux of U momentum (Implicit part)\",\n",
    "        \"units\": \"m^4/s^2\",\n",
    "    },\n",
    "    \"VISrI_Vm\": {\n",
    "        \"long_name\": \"Vertical   Viscous Flux of U momentum (Implicit part)\",\n",
    "        \"units\": \"m^4/s^2\",\n",
    "    },\n",
    "    \"Um_Diss\": {\"long_name\": \"U momentum tendency from Dissipation\", \"units\": \"m/s^2\"},\n",
    "    \"Vm_Diss\": {\"long_name\": \"V momentum tendency from Dissipation\", \"units\": \"m/s^2\"},\n",
    "}"
   ]
  },
  {
   "cell_type": "markdown",
   "metadata": {},
   "source": [
    "## Full domain TIW season"
   ]
  },
  {
   "cell_type": "code",
   "execution_count": 196,
   "metadata": {},
   "outputs": [],
   "source": [
    "dirname = \"/glade/campaign/cgd/oce/people/dcherian/TPOS_MITgcm_1_hb/full_domain/HOLD_NC\"\n",
    "outdir = \"/glade/campaign/cgd/oce/people/dcherian/Cherian-et-al-2021-TIW/full_domain\""
   ]
  },
  {
   "cell_type": "code",
   "execution_count": 5,
   "metadata": {},
   "outputs": [
    {
     "data": {
      "text/plain": [
       "['/glade/campaign/cgd/oce/people/dcherian/TPOS_MITgcm_1_hb/full_domain/HOLD_NC/Day_0001.nc',\n",
       " '/glade/campaign/cgd/oce/people/dcherian/TPOS_MITgcm_1_hb/full_domain/HOLD_NC/Day_0001_hb.nc',\n",
       " '/glade/campaign/cgd/oce/people/dcherian/TPOS_MITgcm_1_hb/full_domain/HOLD_NC/Day_0001_sf.nc',\n",
       " '/glade/campaign/cgd/oce/people/dcherian/TPOS_MITgcm_1_hb/full_domain/HOLD_NC/Day_0002.nc',\n",
       " '/glade/campaign/cgd/oce/people/dcherian/TPOS_MITgcm_1_hb/full_domain/HOLD_NC/Day_0002_hb.nc',\n",
       " '/glade/campaign/cgd/oce/people/dcherian/TPOS_MITgcm_1_hb/full_domain/HOLD_NC/Day_0002_sf.nc',\n",
       " '/glade/campaign/cgd/oce/people/dcherian/TPOS_MITgcm_1_hb/full_domain/HOLD_NC/Day_0003.nc',\n",
       " '/glade/campaign/cgd/oce/people/dcherian/TPOS_MITgcm_1_hb/full_domain/HOLD_NC/Day_0003_hb.nc',\n",
       " '/glade/campaign/cgd/oce/people/dcherian/TPOS_MITgcm_1_hb/full_domain/HOLD_NC/Day_0003_sf.nc',\n",
       " '/glade/campaign/cgd/oce/people/dcherian/TPOS_MITgcm_1_hb/full_domain/HOLD_NC/Day_0004.nc']"
      ]
     },
     "execution_count": 5,
     "metadata": {},
     "output_type": "execute_result"
    }
   ],
   "source": [
    "files = sorted(glob.glob(f\"{dirname}/*.nc*\"))\n",
    "files[:10]"
   ]
  },
  {
   "cell_type": "code",
   "execution_count": 7,
   "metadata": {},
   "outputs": [
    {
     "data": {
      "text/plain": [
       "array(['Day_0001', 'Day_0002', 'Day_0003', 'Day_0004', 'Day_0005',\n",
       "       'Day_0006', 'Day_0007', 'Day_0008', 'Day_0009', 'Day_0010'],\n",
       "      dtype='<U8')"
      ]
     },
     "execution_count": 7,
     "metadata": {},
     "output_type": "execute_result"
    }
   ],
   "source": [
    "patterns = np.unique([ff.split(\"/\")[-1][:8] for ff in files[::3]])\n",
    "patterns[:10]"
   ]
  },
  {
   "cell_type": "code",
   "execution_count": 118,
   "metadata": {},
   "outputs": [],
   "source": [
    "def process(patterns):\n",
    "    import cf_xarray\n",
    "\n",
    "    cmpr = dict(zlib=True, complevel=4, shuffle=True)\n",
    "\n",
    "    decimal_places = {\n",
    "        \"u\": 4,\n",
    "        \"v\": 4,\n",
    "        \"w\": 9,\n",
    "        \"salt\": 4,\n",
    "        \"theta\": 4,\n",
    "        \"DFrI_TH\": 4,\n",
    "        \"oceQsw\": 3,\n",
    "        \"oceQnet\": 3,\n",
    "    }\n",
    "\n",
    "    if isinstance(patterns, str):\n",
    "        patterns = [patterns]\n",
    "\n",
    "    datasets = []\n",
    "    for pattern in patterns:\n",
    "        toopen = [f\"{dirname}/{pattern}{suffix}.nc\" for suffix in [\"\", \"_hb\", \"_sf\"]]\n",
    "        # idx = ds.indexes[\"longitude\"].get_loc(-110, method=\"nearest\")\n",
    "\n",
    "        datasets.append(\n",
    "            xr.merge([xr.open_dataset(file, chunks=-1) for file in toopen]).sel(\n",
    "                depth=slice(-305)\n",
    "            )\n",
    "            # .isel(longitude=[idx - 1, idx, idx + 1])\n",
    "        )\n",
    "\n",
    "    if len(datasets) > 1:\n",
    "        with xr.set_options(keep_attrs=True):\n",
    "            dset = xr.concat(datasets, \"time\").mean(\"time\")\n",
    "            dset[\"time\"] = (\n",
    "                (\"time\"),\n",
    "                datasets[0].time.data + pd.Timedelta(\"8h\"),\n",
    "                datasets[0].time.attrs,\n",
    "            )\n",
    "    else:\n",
    "        dset = datasets[0]\n",
    "\n",
    "    dset = dset.cf.guess_coord_axis()\n",
    "    dset = dset.drop_vars(\"TFLUX\")\n",
    "    for var in dset.variables:\n",
    "        dset[var].encoding = datasets[0][var].encoding\n",
    "        del dset[var].encoding[\"contiguous\"]\n",
    "        dset[var].encoding.update(cmpr)\n",
    "\n",
    "        if var in attrs:\n",
    "            dset[var].attrs.update(variable_attrs[var])\n",
    "        # if var in decimal_places:\n",
    "        #    dset[var].encoding[\"least_significant_digit\"] = decimal_places[var]\n",
    "\n",
    "    del dset[\"time\"].attrs[\"long_name\"]\n",
    "\n",
    "    dset.attrs = dataset_attrs\n",
    "    dset.attrs[\"title\"] = \"Daily averaged fields from tropical Pacific cold tongue regional model simulation\"\n",
    "\n",
    "    with dask.config.set(scheduler=\"single-threaded\"):\n",
    "        dset.sel(latitude=slice(-10, 10)).load().to_netcdf(f\"{outdir}/{pattern}.nc\")\n",
    "\n",
    "    return patterns\n",
    "\n",
    "\n",
    "# dset = process(patterns[0])\n",
    "# dset.cf.describe()"
   ]
  },
  {
   "cell_type": "code",
   "execution_count": 101,
   "metadata": {},
   "outputs": [],
   "source": [
    "reshaped = np.array(patterns[1:1459]).reshape(1458//6, 6)"
   ]
  },
  {
   "cell_type": "code",
   "execution_count": 119,
   "metadata": {},
   "outputs": [],
   "source": [
    "tasks = [dask.delayed(process)(row) for row in reshaped[:24]]"
   ]
  },
  {
   "cell_type": "code",
   "execution_count": 120,
   "metadata": {},
   "outputs": [
    {
     "data": {
      "text/plain": [
       "(array(['Day_0002', 'Day_0003', 'Day_0004', 'Day_0005', 'Day_0006',\n",
       "        'Day_0007'], dtype='<U8'),\n",
       " array(['Day_0008', 'Day_0009', 'Day_0010', 'Day_0011', 'Day_0012',\n",
       "        'Day_0013'], dtype='<U8'),\n",
       " array(['Day_0014', 'Day_0015', 'Day_0016', 'Day_0017', 'Day_0018',\n",
       "        'Day_0019'], dtype='<U8'),\n",
       " array(['Day_0020', 'Day_0021', 'Day_0022', 'Day_0023', 'Day_0024',\n",
       "        'Day_0025'], dtype='<U8'),\n",
       " array(['Day_0026', 'Day_0027', 'Day_0028', 'Day_0029', 'Day_0030',\n",
       "        'Day_0031'], dtype='<U8'),\n",
       " array(['Day_0032', 'Day_0033', 'Day_0034', 'Day_0035', 'Day_0036',\n",
       "        'Day_0037'], dtype='<U8'),\n",
       " array(['Day_0038', 'Day_0039', 'Day_0040', 'Day_0041', 'Day_0042',\n",
       "        'Day_0043'], dtype='<U8'),\n",
       " array(['Day_0044', 'Day_0045', 'Day_0046', 'Day_0047', 'Day_0048',\n",
       "        'Day_0049'], dtype='<U8'),\n",
       " array(['Day_0050', 'Day_0051', 'Day_0052', 'Day_0053', 'Day_0054',\n",
       "        'Day_0055'], dtype='<U8'),\n",
       " array(['Day_0056', 'Day_0057', 'Day_0058', 'Day_0059', 'Day_0060',\n",
       "        'Day_0061'], dtype='<U8'),\n",
       " array(['Day_0062', 'Day_0063', 'Day_0064', 'Day_0065', 'Day_0066',\n",
       "        'Day_0067'], dtype='<U8'),\n",
       " array(['Day_0068', 'Day_0069', 'Day_0070', 'Day_0071', 'Day_0072',\n",
       "        'Day_0073'], dtype='<U8'),\n",
       " array(['Day_0074', 'Day_0075', 'Day_0076', 'Day_0077', 'Day_0078',\n",
       "        'Day_0079'], dtype='<U8'),\n",
       " array(['Day_0080', 'Day_0081', 'Day_0082', 'Day_0083', 'Day_0084',\n",
       "        'Day_0085'], dtype='<U8'),\n",
       " array(['Day_0086', 'Day_0087', 'Day_0088', 'Day_0089', 'Day_0090',\n",
       "        'Day_0091'], dtype='<U8'),\n",
       " array(['Day_0092', 'Day_0093', 'Day_0094', 'Day_0095', 'Day_0096',\n",
       "        'Day_0097'], dtype='<U8'),\n",
       " array(['Day_0098', 'Day_0099', 'Day_0100', 'Day_0101', 'Day_0102',\n",
       "        'Day_0103'], dtype='<U8'),\n",
       " array(['Day_0104', 'Day_0105', 'Day_0106', 'Day_0107', 'Day_0108',\n",
       "        'Day_0109'], dtype='<U8'),\n",
       " array(['Day_0110', 'Day_0111', 'Day_0112', 'Day_0113', 'Day_0114',\n",
       "        'Day_0115'], dtype='<U8'),\n",
       " array(['Day_0116', 'Day_0117', 'Day_0118', 'Day_0119', 'Day_0120',\n",
       "        'Day_0121'], dtype='<U8'),\n",
       " array(['Day_0122', 'Day_0123', 'Day_0124', 'Day_0125', 'Day_0126',\n",
       "        'Day_0127'], dtype='<U8'),\n",
       " array(['Day_0128', 'Day_0129', 'Day_0130', 'Day_0131', 'Day_0132',\n",
       "        'Day_0133'], dtype='<U8'),\n",
       " array(['Day_0134', 'Day_0135', 'Day_0136', 'Day_0137', 'Day_0138',\n",
       "        'Day_0139'], dtype='<U8'),\n",
       " array(['Day_0140', 'Day_0141', 'Day_0142', 'Day_0143', 'Day_0144',\n",
       "        'Day_0145'], dtype='<U8'))"
      ]
     },
     "execution_count": 120,
     "metadata": {},
     "output_type": "execute_result"
    }
   ],
   "source": [
    "dask.compute(*tasks)"
   ]
  },
  {
   "cell_type": "code",
   "execution_count": 197,
   "metadata": {},
   "outputs": [],
   "source": [
    "metrics = pump.model.read_metrics(\n",
    "    \"/glade/campaign/cgd/oce/people/dcherian/TPOS_MITgcm_1_hb/\"\n",
    ")\n",
    "metrics[\"longitude\"] = metrics.longitude - 169.025\n",
    "(\n",
    "    metrics\n",
    "    .sel(depth=slice(-305), latitude=slice(-10, 10))\n",
    "    .isel(depth_left=slice(270))\n",
    "    .to_netcdf(f\"{outdir}/metrics.nc\")\n",
    ")"
   ]
  },
  {
   "cell_type": "markdown",
   "metadata": {},
   "source": [
    "## TIW hourly"
   ]
  },
  {
   "cell_type": "code",
   "execution_count": 198,
   "metadata": {},
   "outputs": [],
   "source": [
    "dirname = \"/glade/campaign/cgd/oce/people/dcherian/TPOS_MITgcm_1_hb/tiw/\"\n",
    "outdir = \"/glade/campaign/cgd/oce/people/dcherian/Cherian-et-al-2021-TIW/tiw_hourly/\""
   ]
  },
  {
   "cell_type": "code",
   "execution_count": 123,
   "metadata": {},
   "outputs": [
    {
     "data": {
      "text/plain": [
       "['/glade/campaign/cgd/oce/people/dcherian/TPOS_MITgcm_1_hb/tiw/File_0001_deepak_KPP2D.nc',\n",
       " '/glade/campaign/cgd/oce/people/dcherian/TPOS_MITgcm_1_hb/tiw/File_0001_deepak_KPP3D.nc',\n",
       " '/glade/campaign/cgd/oce/people/dcherian/TPOS_MITgcm_1_hb/tiw/File_0001_deepak_buoy.nc',\n",
       " '/glade/campaign/cgd/oce/people/dcherian/TPOS_MITgcm_1_hb/tiw/File_0001_deepak_diss.nc',\n",
       " '/glade/campaign/cgd/oce/people/dcherian/TPOS_MITgcm_1_hb/tiw/File_0001_deepak_etan.nc',\n",
       " '/glade/campaign/cgd/oce/people/dcherian/TPOS_MITgcm_1_hb/tiw/File_0002_deepak_KPP2D.nc',\n",
       " '/glade/campaign/cgd/oce/people/dcherian/TPOS_MITgcm_1_hb/tiw/File_0002_deepak_KPP3D.nc',\n",
       " '/glade/campaign/cgd/oce/people/dcherian/TPOS_MITgcm_1_hb/tiw/File_0002_deepak_buoy.nc',\n",
       " '/glade/campaign/cgd/oce/people/dcherian/TPOS_MITgcm_1_hb/tiw/File_0002_deepak_diss.nc',\n",
       " '/glade/campaign/cgd/oce/people/dcherian/TPOS_MITgcm_1_hb/tiw/File_0002_deepak_etan.nc']"
      ]
     },
     "execution_count": 123,
     "metadata": {},
     "output_type": "execute_result"
    }
   ],
   "source": [
    "files = sorted(glob.glob(f\"{dirname}/*deepak*.nc*\"))\n",
    "files[:10]"
   ]
  },
  {
   "cell_type": "code",
   "execution_count": 124,
   "metadata": {},
   "outputs": [
    {
     "data": {
      "text/plain": [
       "array(['File_0001', 'File_0002', 'File_0003', 'File_0004', 'File_0005',\n",
       "       'File_0006', 'File_0007', 'File_0008', 'File_0009', 'File_0010'],\n",
       "      dtype='<U9')"
      ]
     },
     "execution_count": 124,
     "metadata": {},
     "output_type": "execute_result"
    }
   ],
   "source": [
    "patterns = np.unique([ff.split(\"/\")[-1][:9] for ff in files[::5]])\n",
    "patterns[:10]"
   ]
  },
  {
   "cell_type": "code",
   "execution_count": 143,
   "metadata": {},
   "outputs": [],
   "source": [
    "def process(pattern):\n",
    "    toopen = [\n",
    "        f\"{dirname}/{pattern}_deepak_{suffix}.nc\"\n",
    "        for suffix in [\"KPP2D\", \"KPP3D\", \"buoy\", \"diss\", \"etan\"]\n",
    "    ]\n",
    "    \n",
    "    dset = (\n",
    "        xr.merge([xr.open_dataset(file) for file in toopen])\n",
    "        .sel(depth=slice(-305))\n",
    "    )\n",
    "    idx = dset.indexes[\"longitude\"].get_loc(-110, method=\"nearest\")\n",
    "    dset = dset.isel(longitude=[idx - 1, idx, idx + 1])\n",
    "    \n",
    "    cmpr = dict(zlib=True, complevel=4, shuffle=True)\n",
    "\n",
    "    for var in dset.variables:\n",
    "        dset[var].encoding.update(cmpr)\n",
    "        if var in variable_attrs:\n",
    "            dset[var].attrs.update(variable_attrs[var])\n",
    "        del dset[var].encoding[\"contiguous\"]\n",
    "        \n",
    "    del dset[\"time\"].attrs[\"long_name\"]\n",
    "        \n",
    "    dset.attrs = dataset_attrs\n",
    "    dset.attrs[\"title\"] = \"Hourly averaged fields from tropical Pacific cold tongue regional model simulation\"\n",
    "\n",
    "    dset.load().to_netcdf(f\"{outdir}/{pattern}.nc\")\n",
    "\n",
    "    return pattern\n",
    "\n",
    "\n",
    "# process(patterns[0])"
   ]
  },
  {
   "cell_type": "code",
   "execution_count": 144,
   "metadata": {},
   "outputs": [],
   "source": [
    "tasks = [dask.delayed(process)(pattern) for pattern in patterns]"
   ]
  },
  {
   "cell_type": "code",
   "execution_count": 148,
   "metadata": {},
   "outputs": [],
   "source": [
    "computed = dask.compute(*tasks, scheduler=client)"
   ]
  },
  {
   "cell_type": "code",
   "execution_count": 199,
   "metadata": {},
   "outputs": [],
   "source": [
    "metrics = pump.model.read_metrics(\n",
    "    \"/glade/campaign/cgd/oce/people/dcherian/TPOS_MITgcm_1_hb/\"\n",
    ")\n",
    "metrics[\"longitude\"] = metrics.longitude - 169.025\n",
    "idx = metrics.indexes[\"longitude\"].get_loc(-110, method=\"nearest\")\n",
    "(\n",
    "    metrics.isel(longitude=[idx - 1, idx, idx + 1])\n",
    "    .sel(depth=slice(-305), latitude=slice(-10, 10))\n",
    "    .isel(depth_left=slice(270))\n",
    "    .to_netcdf(f\"{outdir}/metrics.nc\")\n",
    ")"
   ]
  },
  {
   "cell_type": "code",
   "execution_count": 156,
   "metadata": {},
   "outputs": [],
   "source": [
    "tiw = xr.open_mfdataset(f\"{outdir}/*.nc\", parallel=True)\n",
    "tiw"
   ]
  }
 ],
 "metadata": {
  "kernelspec": {
   "display_name": "Python 3",
   "language": "python",
   "name": "python3"
  },
  "language_info": {
   "codemirror_mode": {
    "name": "ipython",
    "version": 3
   },
   "file_extension": ".py",
   "mimetype": "text/x-python",
   "name": "python",
   "nbconvert_exporter": "python",
   "pygments_lexer": "ipython3",
   "version": "3.8.6"
  }
 },
 "nbformat": 4,
 "nbformat_minor": 4
}
